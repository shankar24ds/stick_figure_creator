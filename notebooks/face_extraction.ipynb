{
 "cells": [
  {
   "cell_type": "code",
   "execution_count": 1,
   "metadata": {},
   "outputs": [],
   "source": [
    "# import cv2\n",
    "# import numpy as np\n",
    "# import dlib\n",
    "# import matplotlib.pyplot as plt"
   ]
  },
  {
   "cell_type": "markdown",
   "metadata": {},
   "source": [
    "### Face extraction using dlib"
   ]
  },
  {
   "cell_type": "code",
   "execution_count": 2,
   "metadata": {},
   "outputs": [],
   "source": [
    "# detector = dlib.get_frontal_face_detector()\n",
    "\n",
    "# image_path = \"/Users/shankar.selvaraj/Documents/personal/projects/stick_figure_creator/images/personal/test_sag_3.jpeg\"\n",
    "# image = cv2.imread(image_path)\n",
    "\n",
    "# if image is None:\n",
    "#     raise FileNotFoundError(\"Error: Image not found or could not be loaded.\")\n",
    "\n",
    "# image_rgb = cv2.cvtColor(image, cv2.COLOR_BGR2RGB)\n",
    "\n",
    "# gray_image = cv2.cvtColor(image, cv2.COLOR_BGR2GRAY)\n",
    "\n",
    "# faces = detector(gray_image)\n",
    "\n",
    "# num_faces = len(faces)\n",
    "\n",
    "# if num_faces == 0:\n",
    "#     raise ValueError(\"Error: No faces detected in the image.\")\n",
    "# elif num_faces > 1:\n",
    "#     raise ValueError(\n",
    "#         f\"Error: Multiple faces detected ({num_faces} found). Only one face is expected.\"\n",
    "#     )\n",
    "\n",
    "# x, y, w, h = (faces[0].left(), faces[0].top(), faces[0].width(), faces[0].height())\n",
    "# face = image_rgb[y : y + h, x : x + w]\n",
    "\n",
    "# plt.figure(figsize=(2, 2))\n",
    "# plt.imshow(face)\n",
    "# plt.axis(\"off\")\n",
    "# plt.show()"
   ]
  },
  {
   "cell_type": "markdown",
   "metadata": {},
   "source": [
    "### Merge pics"
   ]
  },
  {
   "cell_type": "code",
   "execution_count": 3,
   "metadata": {},
   "outputs": [],
   "source": [
    "# detector = dlib.get_frontal_face_detector()\n",
    "\n",
    "\n",
    "# def detect_face(image_path):\n",
    "#     image = cv2.imread(image_path)\n",
    "#     if image is None:\n",
    "#         raise FileNotFoundError(\"Error: Image not found or could not be loaded.\")\n",
    "\n",
    "#     image_rgb = cv2.cvtColor(image, cv2.COLOR_BGR2RGB)\n",
    "#     gray_image = cv2.cvtColor(image, cv2.COLOR_BGR2GRAY)\n",
    "\n",
    "#     faces = detector(gray_image)\n",
    "#     if len(faces) == 0:\n",
    "#         raise ValueError(\"Error: No faces detected in the image.\")\n",
    "#     elif len(faces) > 1:\n",
    "#         raise ValueError(\n",
    "#             f\"Error: Multiple faces detected ({len(faces)} found). Only one face is expected.\"\n",
    "#         )\n",
    "\n",
    "#     x, y, w, h = (faces[0].left(), faces[0].top(), faces[0].width(), faces[0].height())\n",
    "#     face = image_rgb[y : y + h, x : x + w]\n",
    "#     return face\n",
    "\n",
    "\n",
    "# face_image_path = \"/Users/shankar.selvaraj/Documents/personal/projects/stick_figure_creator/images/personal/test_mad.jpeg\"\n",
    "# stick_figure_image_path = \"/Users/shankar.selvaraj/Documents/personal/projects/stick_figure_creator/images/stick_figures/test_stick_3.jpeg\"\n",
    "\n",
    "# face_image = detect_face(face_image_path)\n",
    "\n",
    "# stick_figure_image = cv2.imread(stick_figure_image_path)\n",
    "# if stick_figure_image is None:\n",
    "#     raise FileNotFoundError(\"Error: Second image not found or could not be loaded.\")\n",
    "\n",
    "# stick_figure_image_rgb = cv2.cvtColor(stick_figure_image, cv2.COLOR_BGR2RGB)\n",
    "\n",
    "# stick_figure_image_resized = cv2.resize(\n",
    "#     stick_figure_image_rgb, (face_image.shape[1], stick_figure_image_rgb.shape[0])\n",
    "# )\n",
    "\n",
    "# combined_image = np.vstack((face_image, stick_figure_image_resized))\n",
    "\n",
    "# canvas_height = combined_image.shape[0] + 50\n",
    "# canvas_width = combined_image.shape[1] + 50\n",
    "# canvas = np.ones((canvas_height, canvas_width, 3), dtype=np.uint8) * 255\n",
    "\n",
    "# y_offset = 25\n",
    "# x_offset = (canvas.shape[1] - combined_image.shape[1]) // 2\n",
    "# canvas[\n",
    "#     y_offset : y_offset + combined_image.shape[0],\n",
    "#     x_offset : x_offset + combined_image.shape[1],\n",
    "# ] = combined_image\n",
    "\n",
    "# plt.figure(figsize=(3, 5))\n",
    "# plt.imshow(canvas)\n",
    "# plt.axis(\"off\")\n",
    "# plt.show()"
   ]
  },
  {
   "cell_type": "code",
   "execution_count": null,
   "metadata": {},
   "outputs": [],
   "source": []
  },
  {
   "cell_type": "code",
   "execution_count": null,
   "metadata": {},
   "outputs": [],
   "source": []
  },
  {
   "cell_type": "code",
   "execution_count": null,
   "metadata": {},
   "outputs": [],
   "source": []
  },
  {
   "cell_type": "code",
   "execution_count": null,
   "metadata": {},
   "outputs": [],
   "source": []
  },
  {
   "cell_type": "code",
   "execution_count": null,
   "metadata": {},
   "outputs": [],
   "source": []
  },
  {
   "cell_type": "code",
   "execution_count": null,
   "metadata": {},
   "outputs": [],
   "source": []
  },
  {
   "cell_type": "code",
   "execution_count": null,
   "metadata": {},
   "outputs": [],
   "source": []
  },
  {
   "cell_type": "code",
   "execution_count": null,
   "metadata": {},
   "outputs": [],
   "source": []
  }
 ],
 "metadata": {
  "kernelspec": {
   "display_name": "stick_figure_creator_conda",
   "language": "python",
   "name": "python3"
  },
  "language_info": {
   "codemirror_mode": {
    "name": "ipython",
    "version": 3
   },
   "file_extension": ".py",
   "mimetype": "text/x-python",
   "name": "python",
   "nbconvert_exporter": "python",
   "pygments_lexer": "ipython3",
   "version": "3.11.10"
  }
 },
 "nbformat": 4,
 "nbformat_minor": 2
}
